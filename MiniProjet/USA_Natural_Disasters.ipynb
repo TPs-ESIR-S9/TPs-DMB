{
  "nbformat": 4,
  "nbformat_minor": 0,
  "metadata": {
    "colab": {
      "provenance": []
    },
    "kernelspec": {
      "name": "python3",
      "display_name": "Python 3"
    },
    "language_info": {
      "name": "python"
    }
  },
  "cells": [
    {
      "cell_type": "markdown",
      "source": [
        "# **DMB-S9 - TP3 / Mini-Projet Spark : Catastrophes Naturelles aux Etats-Unis 🌪 🚑**\n",
        "### *Yazid BENJAMAA & Thomas DELAPART - ESIR  SI*"
      ],
      "metadata": {
        "id": "AG8pIA9HMEDA"
      }
    },
    {
      "cell_type": "code",
      "source": [
        "!uname -a\n",
        "!pip install graphframes\n",
        "!pip install pyspark"
      ],
      "metadata": {
        "colab": {
          "base_uri": "https://localhost:8080/"
        },
        "id": "oi4x2zSVMSQq",
        "outputId": "3f996c4a-5b4d-4093-9163-131125d7a29f"
      },
      "execution_count": 54,
      "outputs": [
        {
          "output_type": "stream",
          "name": "stdout",
          "text": [
            "Linux ae2185cd2944 6.1.58+ #1 SMP PREEMPT_DYNAMIC Sat Nov 18 15:31:17 UTC 2023 x86_64 x86_64 x86_64 GNU/Linux\n",
            "Requirement already satisfied: graphframes in /usr/local/lib/python3.10/dist-packages (0.6)\n",
            "Requirement already satisfied: numpy in /usr/local/lib/python3.10/dist-packages (from graphframes) (1.23.5)\n",
            "Requirement already satisfied: nose in /usr/local/lib/python3.10/dist-packages (from graphframes) (1.3.7)\n",
            "Requirement already satisfied: pyspark in /usr/local/lib/python3.10/dist-packages (3.5.0)\n",
            "Requirement already satisfied: py4j==0.10.9.7 in /usr/local/lib/python3.10/dist-packages (from pyspark) (0.10.9.7)\n"
          ]
        }
      ]
    },
    {
      "cell_type": "code",
      "source": [
        "from pyspark.sql import SparkSession\n",
        "from pyspark.sql.functions import datediff, avg, min, desc, year, when\n",
        "import plotly.express as px\n",
        "import plotly.graph_objs as go"
      ],
      "metadata": {
        "id": "98jJ1mYgOBsk"
      },
      "execution_count": 91,
      "outputs": []
    },
    {
      "cell_type": "code",
      "source": [
        "spark = SparkSession.builder \\\n",
        "    .appName(\"Temporal_Trends_Analysis\") \\\n",
        "    .getOrCreate()"
      ],
      "metadata": {
        "id": "jGFJUU23l-Tn"
      },
      "execution_count": 56,
      "outputs": []
    },
    {
      "cell_type": "markdown",
      "source": [
        "<h1><b>I. Le jeu de données </b></h1>"
      ],
      "metadata": {
        "id": "X2I2bmXXORDd"
      }
    },
    {
      "cell_type": "markdown",
      "source": [
        "Le dataset que nous avons choisi répertorie l'historique des catastrophes naturelles aux Etats-Unis de 1953 à 2023.\n",
        "\n",
        "Source (Kaggle): <a href=\"https://www.kaggle.com/datasets/headsortails/us-natural-disaster-declarations?select=us_disaster_declarations.csv\"><b>US Natural Disaster Declarations</b></a>\n",
        "\n",
        "Description : This summary dataset is a high-level summary of all federally declared disasters since 1953, `us_disaster_declarations.csv` provides the geographical resolution is the county level, with FIPS codes being used to encode the counties. In addition to the fips and timing features, the data provides the type of disaster and also binary flags that indicate whether specific aid programs were triggered in response.\n",
        "\n",
        "\n",
        "<table border=\"1\">\n",
        "  <tr>\n",
        "    <th>Nom du champ</th>\n",
        "    <th>Description</th>\n",
        "  </tr>\n",
        "  <tr>\n",
        "    <td>fema_declaration_string</td>\n",
        "    <td>Méthode standard de l'agence pour identifier de manière unique les déclarations de la loi Stafford. Concaténation du type de déclaration, du numéro de catastrophe et de l'état.</td>\n",
        "  </tr>\n",
        "  <tr>\n",
        "    <td>disaster_number</td>\n",
        "    <td>Numéro attribué séquentiellement pour désigner un événement ou un incident déclaré comme catastrophe.</td>\n",
        "  </tr>\n",
        "  <tr>\n",
        "    <td>state</td>\n",
        "    <td>État, district ou territoire des États-Unis.</td>\n",
        "  </tr>\n",
        "  <tr>\n",
        "    <td>declaration_type</td>\n",
        "    <td>L'un des \"DR\" (= grande catastrophe), \"EM\" (= gestion des urgences) ou \"FM\" (= gestion des incendies).</td>\n",
        "  </tr>\n",
        "  <tr>\n",
        "    <td>declaration_date</td>\n",
        "    <td>Date à laquelle la catastrophe a été déclarée.</td>\n",
        "  </tr>\n",
        "  <tr>\n",
        "    <td>fy_declared</td>\n",
        "    <td>Année fiscale au cours de laquelle la catastrophe a été déclarée.</td>\n",
        "  </tr>\n",
        "  <tr>\n",
        "    <td>incident_type</td>\n",
        "    <td>Type d'incident tel que \"Incendie\", \"Inondation\" ou \"Ouragan\". Le type d'incident affectera les types d'assistance disponibles.</td>\n",
        "  </tr>\n",
        "  <tr>\n",
        "    <td>declaration_title</td>\n",
        "    <td>Titre de la catastrophe. Cela peut être un identifiant utile tel que \"Ouragan Katrina\" ou \"Pandémie de Covid-19\".</td>\n",
        "  </tr>\n",
        "  <tr>\n",
        "    <td>ih_program_declared</td>\n",
        "    <td>Indicateur binaire indiquant si le programme \"Individus et Foyers\" a été déclaré pour cette catastrophe.</td>\n",
        "  </tr>\n",
        "  <tr>\n",
        "    <td>ia_program_declared</td>\n",
        "    <td>Indicateur binaire indiquant si le programme \"Assistance Individuelle\" a été déclaré pour cette catastrophe.</td>\n",
        "  </tr>\n",
        "  <tr>\n",
        "    <td>pa_program_declared</td>\n",
        "    <td>Indicateur binaire indiquant si le programme \"Assistance Publique\" a été déclaré pour cette catastrophe.</td>\n",
        "  </tr>\n",
        "  <tr>\n",
        "    <td>hm_program_declared</td>\n",
        "    <td>Indicateur binaire indiquant si le programme \"Atténuation des Risques\" a été déclaré pour cette catastrophe.</td>\n",
        "  </tr>\n",
        "  <tr>\n",
        "    <td>incident_begin_date</td>\n",
        "    <td>Date à laquelle l'incident lui-même a commencé.</td>\n",
        "  </tr>\n",
        "  <tr>\n",
        "    <td>incident_end_date</td>\n",
        "    <td>Date à laquelle l'incident lui-même s'est terminé. Cette caractéristique présente environ 14% d'entrées NA.</td>\n",
        "  </tr>\n",
        "  <tr>\n",
        "    <td>disaster_closeout_date</td>\n",
        "    <td>Date à laquelle toutes les transactions financières pour tous les programmes sont terminées. Cette colonne présente 98% d'entrées NA.</td>\n",
        "  </tr>\n",
        "  <tr>\n",
        "    <td>fips</td>\n",
        "    <td>Code FIPS de comté à 5 chiffres ; utilisé pour identifier les comtés et les équivalents de comté aux États-Unis, dans le district de Columbia, dans les territoires américains, dans les zones périphériques des États-Unis et dans les États associés librement. Concaténé à partir des 2 colonnes source \"fipsStateCode\" et \"fipsCountyCode\".</td>\n",
        "  </tr>\n",
        "  <tr>\n",
        "    <td>place_code</td>\n",
        "    <td>Un système de code unique que FEMA utilise en interne pour reconnaître les emplacements qui prend les numéros '99' + le code FIPS de comté à 3 chiffres. Il y a des emplacements déclarés qui n'ont pas de codes FIPS de comté reconnus, auquel cas un identifiant unique a été attribué.</td>\n",
        "  </tr>\n",
        "  <tr>\n",
        "    <td>designated_area</td>\n",
        "    <td>Le nom ou la phrase décrivant le comté américain inclus dans la déclaration. Peut prendre la valeur \"À l'échelle de l'État\".</td>\n",
        "  </tr>\n",
        "  <tr>\n",
        "    <td>declaration_request_number</td>\n",
        "    <td>Identifiant unique attribué à la demande de déclaration de catastrophe.</td>\n",
        "  </tr>\n",
        "  <tr>\n",
        "    <td>hash</td>\n",
        "    <td>Hash MD5 des champs et des valeurs de l'enregistrement.</td>\n",
        "  </tr>\n",
        "  <tr>\n",
        "    <td>last_refresh</td>\n",
        "    <td>Date à laquelle l'enregistrement a été mis à jour pour la dernière fois par FEMA.</td>\n",
        "  </tr>\n",
        "  <tr>\n",
        "    <td>id</td>\n",
        "    <td>Identifiant unique attribué à l'enregistrement. Ces 4 dernières colonnes sont principalement utilisées pour la comptabilité.</td>\n",
        "  </tr>\n",
        "</table>"
      ],
      "metadata": {
        "id": "qe__RF1oVvTi"
      }
    },
    {
      "cell_type": "markdown",
      "source": [
        "Echantillon des données (2 premières lignes) :\n",
        "\n",
        "<table border=\"1\">\n",
        "  <tr>\n",
        "    <th>fema_declaration_string</th>\n",
        "    <th>disaster_number</th>\n",
        "    <th>state</th>\n",
        "    <th>declaration_type</th>\n",
        "    <th>declaration_date</th>\n",
        "    <th>fy_declared</th>\n",
        "    <th>incident_type</th>\n",
        "    <th>declaration_title</th>\n",
        "    <th>ih_program_declared</th>\n",
        "    <th>ia_program_declared</th>\n",
        "    <th>pa_program_declared</th>\n",
        "    <th>hm_program_declared</th>\n",
        "    <th>incident_begin_date</th>\n",
        "    <th>incident_end_date</th>\n",
        "    <th>disaster_closeout_date</th>\n",
        "    <th>fips</th>\n",
        "    <th>place_code</th>\n",
        "    <th>designated_area</th>\n",
        "    <th>declaration_request_number</th>\n",
        "    <th>last_ia_filing_date</th>\n",
        "    <th>last_refresh</th>\n",
        "    <th>hash</th>\n",
        "    <th>id</th>\n",
        "  </tr>\n",
        "  <tr>\n",
        "    <td>DR-1-GA</td>\n",
        "    <td>1</td>\n",
        "    <td>GA</td>\n",
        "    <td>DR</td>\n",
        "    <td>1953-05-02T00:00:00Z</td>\n",
        "    <td>1953</td>\n",
        "    <td>Tornado</td>\n",
        "    <td>Tornado</td>\n",
        "    <td>0</td>\n",
        "    <td>1</td>\n",
        "    <td>1</td>\n",
        "    <td>1</td>\n",
        "    <td>1953-05-02T00:00:00Z</td>\n",
        "    <td>1953-05-02T00:00:00Z</td>\n",
        "    <td>1954-06-01T00:00:00Z</td>\n",
        "    <td>13000</td>\n",
        "    <td>0</td>\n",
        "    <td>Statewide</td>\n",
        "    <td>53013</td>\n",
        "    <td>NA</td>\n",
        "    <td>2023-03-18T13:22:03Z</td>\n",
        "    <td>48af1afcc4535aa910ddb5b85eebe047dc703a6b</td>\n",
        "    <td>da5c8f17-c28f-4c41-8e06-fa8efc85aa4a</td>\n",
        "  </tr>\n",
        "  <tr>\n",
        "    <td>DR-2-TX</td>\n",
        "    <td>2</td>\n",
        "    <td>TX</td>\n",
        "    <td>DR</td>\n",
        "    <td>1953-05-15T00:00:00Z</td>\n",
        "    <td>1953</td>\n",
        "    <td>Tornado</td>\n",
        "    <td>Tornado & Heavy Rainfall</td>\n",
        "    <td>0</td>\n",
        "    <td>1</td>\n",
        "    <td>1</td>\n",
        "    <td>1</td>\n",
        "    <td>1953-05-15T00:00:00Z</td>\n",
        "    <td>1953-05-15T00:00:00Z</td>\n",
        "    <td>1958-01-01T00:00:00Z</td>\n",
        "    <td>48000</td>\n",
        "    <td>0</td>\n",
        "    <td>Statewide</td>\n",
        "    <td>53003</td>\n",
        "    <td>NA</td>\n",
        "    <td>2023-03-18T13:22:03Z</td>\n",
        "    <td>6bbba411d294ec521683e36313c8da2992e8a857</td>\n",
        "    <td>b0b41f55-0d77-43ac-898c-3cc4a18231e6</td>\n",
        "  </tr>\n",
        "  <!-- Ajoutez les autres lignes de données ici -->\n",
        "</table>"
      ],
      "metadata": {
        "id": "m3TKXdt4VrCF"
      }
    },
    {
      "cell_type": "code",
      "source": [
        "file_path = \"/content/drive/MyDrive/TP_DMB/us_disaster_declarations.csv\"\n",
        "\n",
        "data = spark.read.csv(file_path, header=True, inferSchema=True)"
      ],
      "metadata": {
        "id": "D47h6U-okzg-"
      },
      "execution_count": 57,
      "outputs": []
    },
    {
      "cell_type": "markdown",
      "source": [
        "<h1><b>II. Questions traitées :</b></h1>\n",
        "<h3> 1. Tendances temporelles </h3>\n",
        "<ul>\n",
        "  <li>Comment évolue le nombre de catastrophes naturelles au fil des années ? </li>\n",
        "  <li> Y a-t-il des années avec un nombre exceptionnellement élevé ou faible de déclarations de catastrophes ?</li>\n",
        "</ul>\n",
        "<h3> 2. Types de catastrophes </h3>\n",
        "<ul>\n",
        "  <li>Quels sont les types de catastrophes naturelles les plus fréquents dans les déclarations ?</li>\n",
        "  <li> Y a-t-il des régions plus susceptibles à certains types de catastrophes que d'autres ?</li>\n",
        "</ul>\n",
        "<h3> 3. Répartition géographique </h3>\n",
        "<ul>\n",
        "  <li>Quelles régions ont le plus souvent des déclarations de catastrophes naturelles ?\n",
        "</li>\n",
        "</ul>\n",
        "<h3>4. Durée et impact des catastrophes\n",
        "</h3>\n",
        "<ul>\n",
        "  <li>Quelle est la durée moyenne d'une catastrophe, de son début à sa clôture ?\n",
        "</li>\n",
        "<li>Quels sont les types de déclarations qui ont le plus grand impact en termes de pertes économiques ?\n",
        "</li>\n",
        "</ul>\n",
        "<h3>5. Réponses et secours</h3>\n",
        "<ul>\n",
        "  <li>Quelle est la durée moyenne entre la déclaration d'une catastrophe naturelle et l'octroi d'une aide fédérale ? </li>\n",
        "  <li>Quels états sont les plus rapides en matière d'octroi de l'aide ?\n",
        "</li>\n",
        "</ul>\n",
        "<h3>6. Exposition aux catastrophes naturelles</h3>\n",
        "<ul>\n",
        "  <li>Quelle catastrophe naturelle est la plus fréquente dans chaque état ?\n",
        "</li>\n",
        "  <li>Quelles ont été les années les plus marquées en catastrophes naturelles pour chaque état ?\n",
        "</li>\n",
        "  <li>Quels programmes d'assitance ont été activés dans chaque état ?</li>\n",
        "</ul>\n",
        "\n"
      ],
      "metadata": {
        "id": "Rk5R-8uKY4Hv"
      }
    },
    {
      "cell_type": "markdown",
      "source": [
        "### 1. Tendances temporelles :\n",
        "\n",
        "Comment évolue le nombre de déclarations de catastrophes naturelles au fil des années ?\n",
        "Y a-t-il des années avec un nombre exceptionnellement élevé ou faible de déclarations de catastrophes ?"
      ],
      "metadata": {
        "id": "JcavbGhva6WB"
      }
    },
    {
      "cell_type": "code",
      "source": [
        "# On extrait l'année\n",
        "data = data.withColumn(\"year\", year(data[\"declaration_date\"]))\n",
        "\n",
        "declaration_count = data.groupBy(\"year\").count().orderBy(\"year\")\n",
        "\n",
        "declaration_count.show()\n",
        "\n",
        "max_declarations = declaration_count.orderBy(\"count\", ascending=False).first()\n",
        "min_declarations = declaration_count.orderBy(\"count\").first()\n",
        "\n",
        "print(\"Année avec le plus grand nombre de déclarations de catastrophes naturelles:\", max_declarations[\"year\"])\n",
        "print(\"Nombre de déclarations:\", max_declarations[\"count\"])\n",
        "\n",
        "print(\"\\nAnnée avec le plus faible nombre de déclarations de catastrophes naturelles:\", min_declarations[\"year\"])\n",
        "print(\"Nombre de déclarations:\", min_declarations[\"count\"])"
      ],
      "metadata": {
        "colab": {
          "base_uri": "https://localhost:8080/"
        },
        "id": "6TmyeSiEMCbU",
        "outputId": "74dac763-db6d-4d50-fccd-24882a5c13c6"
      },
      "execution_count": 58,
      "outputs": [
        {
          "output_type": "stream",
          "name": "stdout",
          "text": [
            "+----+-----+\n",
            "|year|count|\n",
            "+----+-----+\n",
            "|1953|   13|\n",
            "|1954|   17|\n",
            "|1955|   18|\n",
            "|1956|   16|\n",
            "|1957|   16|\n",
            "|1958|    7|\n",
            "|1959|    7|\n",
            "|1960|   12|\n",
            "|1961|   12|\n",
            "|1962|   22|\n",
            "|1963|   20|\n",
            "|1964|  136|\n",
            "|1965|  429|\n",
            "|1966|  120|\n",
            "|1967|  196|\n",
            "|1968|  161|\n",
            "|1969|  505|\n",
            "|1970|  223|\n",
            "|1971|  174|\n",
            "|1972|  526|\n",
            "+----+-----+\n",
            "only showing top 20 rows\n",
            "\n",
            "Année avec le plus grand nombre de déclarations de catastrophes naturelles: 2020\n",
            "Nombre de déclarations: 9712\n",
            "\n",
            "Année avec le plus faible nombre de déclarations de catastrophes naturelles: 1959\n",
            "Nombre de déclarations: 7\n"
          ]
        }
      ]
    },
    {
      "cell_type": "markdown",
      "source": [
        "### 2. Types de catastrophes :\n",
        "\n",
        "Quels sont les types de catastrophes naturelles les plus fréquents dans les déclarations ?\n",
        "Y a-t-il des régions plus susceptibles à certains types de catastrophes que d'autres ?"
      ],
      "metadata": {
        "id": "xCgPHZlolVWa"
      }
    },
    {
      "cell_type": "code",
      "source": [
        "type_counts = data.groupBy(\"incident_type\").count().orderBy(desc(\"count\"))\n",
        "\n",
        "print(\"Types de catastrophes naturelles les plus fréquents :\")\n",
        "type_counts.show(truncate=False)\n",
        "\n",
        "region_type_counts = data.groupBy(\"state\", \"incident_type\").count().orderBy(\"state\", desc(\"count\"))\n",
        "\n",
        "print(\"Régions les plus susceptibles à certains types de catastrophes :\")\n",
        "region_type_counts.show(truncate=False)"
      ],
      "metadata": {
        "colab": {
          "base_uri": "https://localhost:8080/"
        },
        "id": "oBPmQUE-lUjr",
        "outputId": "3dafad17-6da3-4fd1-acdb-e9b2e209cdb3"
      },
      "execution_count": 59,
      "outputs": [
        {
          "output_type": "stream",
          "name": "stdout",
          "text": [
            "Types de catastrophes naturelles les plus fréquents :\n",
            "+-----------------+-----+\n",
            "|incident_type    |count|\n",
            "+-----------------+-----+\n",
            "|Severe Storm     |17490|\n",
            "|Hurricane        |13045|\n",
            "|Flood            |10693|\n",
            "|Biological       |7857 |\n",
            "|Snowstorm        |3707 |\n",
            "|Fire             |3615 |\n",
            "|Severe Ice Storm |2942 |\n",
            "|Tornado          |1569 |\n",
            "|Drought          |1292 |\n",
            "|Coastal Storm    |637  |\n",
            "|Other            |307  |\n",
            "|Freezing         |301  |\n",
            "|Earthquake       |228  |\n",
            "|Typhoon          |130  |\n",
            "|Tropical Storm   |54   |\n",
            "|Volcanic Eruption|51   |\n",
            "|Winter Storm     |43   |\n",
            "|Fishing Losses   |42   |\n",
            "|Mud/Landslide    |37   |\n",
            "|Dam/Levee Break  |13   |\n",
            "+-----------------+-----+\n",
            "only showing top 20 rows\n",
            "\n",
            "Régions les plus susceptibles à certains types de catastrophes :\n",
            "+-----+-------------+-----+\n",
            "|state|incident_type|count|\n",
            "+-----+-------------+-----+\n",
            "|AK   |Biological   |121  |\n",
            "|AK   |Severe Storm |74   |\n",
            "|AK   |Flood        |50   |\n",
            "|AK   |Fire         |30   |\n",
            "|AK   |Freezing     |14   |\n",
            "|AK   |Earthquake   |13   |\n",
            "|AK   |Mud/Landslide|6    |\n",
            "|AK   |Other        |4    |\n",
            "|AK   |Snowstorm    |4    |\n",
            "|AK   |Coastal Storm|2    |\n",
            "|AL   |Hurricane    |611  |\n",
            "|AL   |Severe Storm |604  |\n",
            "|AL   |Biological   |139  |\n",
            "|AL   |Flood        |104  |\n",
            "|AL   |Snowstorm    |67   |\n",
            "|AL   |Drought      |67   |\n",
            "|AL   |Tornado      |62   |\n",
            "|AL   |Fire         |11   |\n",
            "|AR   |Severe Storm |633  |\n",
            "|AR   |Flood        |271  |\n",
            "+-----+-------------+-----+\n",
            "only showing top 20 rows\n",
            "\n"
          ]
        }
      ]
    },
    {
      "cell_type": "markdown",
      "source": [
        "## 3. Répartition géographique :\n",
        "\n",
        "Quelles régions ont le plus souvent des déclarations de catastrophes naturelles ?"
      ],
      "metadata": {
        "id": "qS1n87Ahm_8w"
      }
    },
    {
      "cell_type": "code",
      "source": [
        "regions_counts = data.groupBy(\"state\").count().orderBy(desc(\"count\"))\n",
        "print(\"Régions avec le plus grand nombre de déclarations de catastrophes naturelles :\")\n",
        "regions_counts.show(truncate=False)"
      ],
      "metadata": {
        "colab": {
          "base_uri": "https://localhost:8080/"
        },
        "id": "Ugp8GAbmniPP",
        "outputId": "29086f8e-7eb3-44ba-d160-602b0ec6ade9"
      },
      "execution_count": 60,
      "outputs": [
        {
          "output_type": "stream",
          "name": "stdout",
          "text": [
            "Régions avec le plus grand nombre de déclarations de catastrophes naturelles :\n",
            "+-----+-----+\n",
            "|state|count|\n",
            "+-----+-----+\n",
            "|TX   |5173 |\n",
            "|MO   |2704 |\n",
            "|KY   |2583 |\n",
            "|VA   |2524 |\n",
            "|LA   |2493 |\n",
            "|OK   |2474 |\n",
            "|FL   |2352 |\n",
            "|GA   |2278 |\n",
            "|NC   |2096 |\n",
            "|PR   |1987 |\n",
            "|MS   |1906 |\n",
            "|IA   |1848 |\n",
            "|KS   |1759 |\n",
            "|AL   |1665 |\n",
            "|TN   |1605 |\n",
            "|CA   |1599 |\n",
            "|AR   |1593 |\n",
            "|MN   |1563 |\n",
            "|NY   |1503 |\n",
            "|NE   |1485 |\n",
            "+-----+-----+\n",
            "only showing top 20 rows\n",
            "\n"
          ]
        }
      ]
    },
    {
      "cell_type": "code",
      "source": [
        "state_counts_pandas = regions_counts.toPandas()\n",
        "\n",
        "fig = go.Figure(data=go.Choropleth(\n",
        "    locations=state_counts_pandas['state'],\n",
        "    z=state_counts_pandas['count'],\n",
        "    locationmode='USA-states',\n",
        "    colorscale='Reds',\n",
        "    colorbar_title='Nombre de déclarations de catastrophes'\n",
        "))\n",
        "\n",
        "fig.update_layout(\n",
        "    title_text='Déclarations de catastrophes naturelles par état aux États-Unis',\n",
        "    geo_scope='usa',\n",
        "    width=1500,\n",
        "    height=800\n",
        ")\n",
        "\n",
        "fig.show()"
      ],
      "metadata": {
        "colab": {
          "base_uri": "https://localhost:8080/",
          "height": 817
        },
        "id": "hAcLQ0_KpWbR",
        "outputId": "a4b3748e-2a2a-4838-80cb-378c217ecac4"
      },
      "execution_count": 88,
      "outputs": [
        {
          "output_type": "display_data",
          "data": {
            "text/html": [
              "<html>\n",
              "<head><meta charset=\"utf-8\" /></head>\n",
              "<body>\n",
              "    <div>            <script src=\"https://cdnjs.cloudflare.com/ajax/libs/mathjax/2.7.5/MathJax.js?config=TeX-AMS-MML_SVG\"></script><script type=\"text/javascript\">if (window.MathJax && window.MathJax.Hub && window.MathJax.Hub.Config) {window.MathJax.Hub.Config({SVG: {font: \"STIX-Web\"}});}</script>                <script type=\"text/javascript\">window.PlotlyConfig = {MathJaxConfig: 'local'};</script>\n",
              "        <script charset=\"utf-8\" src=\"https://cdn.plot.ly/plotly-2.24.1.min.js\"></script>                <div id=\"e3d50ef1-d480-4fee-94b1-b78c8f1f5c32\" class=\"plotly-graph-div\" style=\"height:800px; width:1500px;\"></div>            <script type=\"text/javascript\">                                    window.PLOTLYENV=window.PLOTLYENV || {};                                    if (document.getElementById(\"e3d50ef1-d480-4fee-94b1-b78c8f1f5c32\")) {                    Plotly.newPlot(                        \"e3d50ef1-d480-4fee-94b1-b78c8f1f5c32\",                        [{\"colorbar\":{\"title\":{\"text\":\"Nombre de d\\u00e9clarations de catastrophes\"}},\"colorscale\":[[0.0,\"rgb(255,245,240)\"],[0.125,\"rgb(254,224,210)\"],[0.25,\"rgb(252,187,161)\"],[0.375,\"rgb(252,146,114)\"],[0.5,\"rgb(251,106,74)\"],[0.625,\"rgb(239,59,44)\"],[0.75,\"rgb(203,24,29)\"],[0.875,\"rgb(165,15,21)\"],[1.0,\"rgb(103,0,13)\"]],\"locationmode\":\"USA-states\",\"locations\":[\"TX\",\"MO\",\"KY\",\"VA\",\"LA\",\"OK\",\"FL\",\"GA\",\"NC\",\"PR\",\"MS\",\"IA\",\"KS\",\"AL\",\"TN\",\"CA\",\"AR\",\"MN\",\"NY\",\"NE\",\"IN\",\"SD\",\"ND\",\"IL\",\"OH\",\"PA\",\"WV\",\"ME\",\"WA\",\"SC\",\"WI\",\"MI\",\"CO\",\"NJ\",\"MT\",\"OR\",\"NM\",\"MD\",\"MA\",\"ID\",\"VT\",\"AZ\",\"AK\",\"NH\",\"NV\",\"CT\",\"UT\",\"WY\",\"RI\",\"HI\",\"VI\",\"AS\",\"MP\",\"DE\",\"MH\",\"FM\",\"DC\",\"GU\",\"PW\"],\"z\":[5173,2704,2583,2524,2493,2474,2352,2278,2096,1987,1906,1848,1759,1665,1605,1599,1593,1563,1503,1485,1451,1430,1359,1283,1281,1239,1232,1019,979,947,892,796,646,625,605,586,514,448,398,361,338,335,318,301,274,255,249,128,114,100,80,76,63,53,53,31,23,19,1],\"type\":\"choropleth\"}],                        {\"template\":{\"data\":{\"histogram2dcontour\":[{\"type\":\"histogram2dcontour\",\"colorbar\":{\"outlinewidth\":0,\"ticks\":\"\"},\"colorscale\":[[0.0,\"#0d0887\"],[0.1111111111111111,\"#46039f\"],[0.2222222222222222,\"#7201a8\"],[0.3333333333333333,\"#9c179e\"],[0.4444444444444444,\"#bd3786\"],[0.5555555555555556,\"#d8576b\"],[0.6666666666666666,\"#ed7953\"],[0.7777777777777778,\"#fb9f3a\"],[0.8888888888888888,\"#fdca26\"],[1.0,\"#f0f921\"]]}],\"choropleth\":[{\"type\":\"choropleth\",\"colorbar\":{\"outlinewidth\":0,\"ticks\":\"\"}}],\"histogram2d\":[{\"type\":\"histogram2d\",\"colorbar\":{\"outlinewidth\":0,\"ticks\":\"\"},\"colorscale\":[[0.0,\"#0d0887\"],[0.1111111111111111,\"#46039f\"],[0.2222222222222222,\"#7201a8\"],[0.3333333333333333,\"#9c179e\"],[0.4444444444444444,\"#bd3786\"],[0.5555555555555556,\"#d8576b\"],[0.6666666666666666,\"#ed7953\"],[0.7777777777777778,\"#fb9f3a\"],[0.8888888888888888,\"#fdca26\"],[1.0,\"#f0f921\"]]}],\"heatmap\":[{\"type\":\"heatmap\",\"colorbar\":{\"outlinewidth\":0,\"ticks\":\"\"},\"colorscale\":[[0.0,\"#0d0887\"],[0.1111111111111111,\"#46039f\"],[0.2222222222222222,\"#7201a8\"],[0.3333333333333333,\"#9c179e\"],[0.4444444444444444,\"#bd3786\"],[0.5555555555555556,\"#d8576b\"],[0.6666666666666666,\"#ed7953\"],[0.7777777777777778,\"#fb9f3a\"],[0.8888888888888888,\"#fdca26\"],[1.0,\"#f0f921\"]]}],\"heatmapgl\":[{\"type\":\"heatmapgl\",\"colorbar\":{\"outlinewidth\":0,\"ticks\":\"\"},\"colorscale\":[[0.0,\"#0d0887\"],[0.1111111111111111,\"#46039f\"],[0.2222222222222222,\"#7201a8\"],[0.3333333333333333,\"#9c179e\"],[0.4444444444444444,\"#bd3786\"],[0.5555555555555556,\"#d8576b\"],[0.6666666666666666,\"#ed7953\"],[0.7777777777777778,\"#fb9f3a\"],[0.8888888888888888,\"#fdca26\"],[1.0,\"#f0f921\"]]}],\"contourcarpet\":[{\"type\":\"contourcarpet\",\"colorbar\":{\"outlinewidth\":0,\"ticks\":\"\"}}],\"contour\":[{\"type\":\"contour\",\"colorbar\":{\"outlinewidth\":0,\"ticks\":\"\"},\"colorscale\":[[0.0,\"#0d0887\"],[0.1111111111111111,\"#46039f\"],[0.2222222222222222,\"#7201a8\"],[0.3333333333333333,\"#9c179e\"],[0.4444444444444444,\"#bd3786\"],[0.5555555555555556,\"#d8576b\"],[0.6666666666666666,\"#ed7953\"],[0.7777777777777778,\"#fb9f3a\"],[0.8888888888888888,\"#fdca26\"],[1.0,\"#f0f921\"]]}],\"surface\":[{\"type\":\"surface\",\"colorbar\":{\"outlinewidth\":0,\"ticks\":\"\"},\"colorscale\":[[0.0,\"#0d0887\"],[0.1111111111111111,\"#46039f\"],[0.2222222222222222,\"#7201a8\"],[0.3333333333333333,\"#9c179e\"],[0.4444444444444444,\"#bd3786\"],[0.5555555555555556,\"#d8576b\"],[0.6666666666666666,\"#ed7953\"],[0.7777777777777778,\"#fb9f3a\"],[0.8888888888888888,\"#fdca26\"],[1.0,\"#f0f921\"]]}],\"mesh3d\":[{\"type\":\"mesh3d\",\"colorbar\":{\"outlinewidth\":0,\"ticks\":\"\"}}],\"scatter\":[{\"fillpattern\":{\"fillmode\":\"overlay\",\"size\":10,\"solidity\":0.2},\"type\":\"scatter\"}],\"parcoords\":[{\"type\":\"parcoords\",\"line\":{\"colorbar\":{\"outlinewidth\":0,\"ticks\":\"\"}}}],\"scatterpolargl\":[{\"type\":\"scatterpolargl\",\"marker\":{\"colorbar\":{\"outlinewidth\":0,\"ticks\":\"\"}}}],\"bar\":[{\"error_x\":{\"color\":\"#2a3f5f\"},\"error_y\":{\"color\":\"#2a3f5f\"},\"marker\":{\"line\":{\"color\":\"#E5ECF6\",\"width\":0.5},\"pattern\":{\"fillmode\":\"overlay\",\"size\":10,\"solidity\":0.2}},\"type\":\"bar\"}],\"scattergeo\":[{\"type\":\"scattergeo\",\"marker\":{\"colorbar\":{\"outlinewidth\":0,\"ticks\":\"\"}}}],\"scatterpolar\":[{\"type\":\"scatterpolar\",\"marker\":{\"colorbar\":{\"outlinewidth\":0,\"ticks\":\"\"}}}],\"histogram\":[{\"marker\":{\"pattern\":{\"fillmode\":\"overlay\",\"size\":10,\"solidity\":0.2}},\"type\":\"histogram\"}],\"scattergl\":[{\"type\":\"scattergl\",\"marker\":{\"colorbar\":{\"outlinewidth\":0,\"ticks\":\"\"}}}],\"scatter3d\":[{\"type\":\"scatter3d\",\"line\":{\"colorbar\":{\"outlinewidth\":0,\"ticks\":\"\"}},\"marker\":{\"colorbar\":{\"outlinewidth\":0,\"ticks\":\"\"}}}],\"scattermapbox\":[{\"type\":\"scattermapbox\",\"marker\":{\"colorbar\":{\"outlinewidth\":0,\"ticks\":\"\"}}}],\"scatterternary\":[{\"type\":\"scatterternary\",\"marker\":{\"colorbar\":{\"outlinewidth\":0,\"ticks\":\"\"}}}],\"scattercarpet\":[{\"type\":\"scattercarpet\",\"marker\":{\"colorbar\":{\"outlinewidth\":0,\"ticks\":\"\"}}}],\"carpet\":[{\"aaxis\":{\"endlinecolor\":\"#2a3f5f\",\"gridcolor\":\"white\",\"linecolor\":\"white\",\"minorgridcolor\":\"white\",\"startlinecolor\":\"#2a3f5f\"},\"baxis\":{\"endlinecolor\":\"#2a3f5f\",\"gridcolor\":\"white\",\"linecolor\":\"white\",\"minorgridcolor\":\"white\",\"startlinecolor\":\"#2a3f5f\"},\"type\":\"carpet\"}],\"table\":[{\"cells\":{\"fill\":{\"color\":\"#EBF0F8\"},\"line\":{\"color\":\"white\"}},\"header\":{\"fill\":{\"color\":\"#C8D4E3\"},\"line\":{\"color\":\"white\"}},\"type\":\"table\"}],\"barpolar\":[{\"marker\":{\"line\":{\"color\":\"#E5ECF6\",\"width\":0.5},\"pattern\":{\"fillmode\":\"overlay\",\"size\":10,\"solidity\":0.2}},\"type\":\"barpolar\"}],\"pie\":[{\"automargin\":true,\"type\":\"pie\"}]},\"layout\":{\"autotypenumbers\":\"strict\",\"colorway\":[\"#636efa\",\"#EF553B\",\"#00cc96\",\"#ab63fa\",\"#FFA15A\",\"#19d3f3\",\"#FF6692\",\"#B6E880\",\"#FF97FF\",\"#FECB52\"],\"font\":{\"color\":\"#2a3f5f\"},\"hovermode\":\"closest\",\"hoverlabel\":{\"align\":\"left\"},\"paper_bgcolor\":\"white\",\"plot_bgcolor\":\"#E5ECF6\",\"polar\":{\"bgcolor\":\"#E5ECF6\",\"angularaxis\":{\"gridcolor\":\"white\",\"linecolor\":\"white\",\"ticks\":\"\"},\"radialaxis\":{\"gridcolor\":\"white\",\"linecolor\":\"white\",\"ticks\":\"\"}},\"ternary\":{\"bgcolor\":\"#E5ECF6\",\"aaxis\":{\"gridcolor\":\"white\",\"linecolor\":\"white\",\"ticks\":\"\"},\"baxis\":{\"gridcolor\":\"white\",\"linecolor\":\"white\",\"ticks\":\"\"},\"caxis\":{\"gridcolor\":\"white\",\"linecolor\":\"white\",\"ticks\":\"\"}},\"coloraxis\":{\"colorbar\":{\"outlinewidth\":0,\"ticks\":\"\"}},\"colorscale\":{\"sequential\":[[0.0,\"#0d0887\"],[0.1111111111111111,\"#46039f\"],[0.2222222222222222,\"#7201a8\"],[0.3333333333333333,\"#9c179e\"],[0.4444444444444444,\"#bd3786\"],[0.5555555555555556,\"#d8576b\"],[0.6666666666666666,\"#ed7953\"],[0.7777777777777778,\"#fb9f3a\"],[0.8888888888888888,\"#fdca26\"],[1.0,\"#f0f921\"]],\"sequentialminus\":[[0.0,\"#0d0887\"],[0.1111111111111111,\"#46039f\"],[0.2222222222222222,\"#7201a8\"],[0.3333333333333333,\"#9c179e\"],[0.4444444444444444,\"#bd3786\"],[0.5555555555555556,\"#d8576b\"],[0.6666666666666666,\"#ed7953\"],[0.7777777777777778,\"#fb9f3a\"],[0.8888888888888888,\"#fdca26\"],[1.0,\"#f0f921\"]],\"diverging\":[[0,\"#8e0152\"],[0.1,\"#c51b7d\"],[0.2,\"#de77ae\"],[0.3,\"#f1b6da\"],[0.4,\"#fde0ef\"],[0.5,\"#f7f7f7\"],[0.6,\"#e6f5d0\"],[0.7,\"#b8e186\"],[0.8,\"#7fbc41\"],[0.9,\"#4d9221\"],[1,\"#276419\"]]},\"xaxis\":{\"gridcolor\":\"white\",\"linecolor\":\"white\",\"ticks\":\"\",\"title\":{\"standoff\":15},\"zerolinecolor\":\"white\",\"automargin\":true,\"zerolinewidth\":2},\"yaxis\":{\"gridcolor\":\"white\",\"linecolor\":\"white\",\"ticks\":\"\",\"title\":{\"standoff\":15},\"zerolinecolor\":\"white\",\"automargin\":true,\"zerolinewidth\":2},\"scene\":{\"xaxis\":{\"backgroundcolor\":\"#E5ECF6\",\"gridcolor\":\"white\",\"linecolor\":\"white\",\"showbackground\":true,\"ticks\":\"\",\"zerolinecolor\":\"white\",\"gridwidth\":2},\"yaxis\":{\"backgroundcolor\":\"#E5ECF6\",\"gridcolor\":\"white\",\"linecolor\":\"white\",\"showbackground\":true,\"ticks\":\"\",\"zerolinecolor\":\"white\",\"gridwidth\":2},\"zaxis\":{\"backgroundcolor\":\"#E5ECF6\",\"gridcolor\":\"white\",\"linecolor\":\"white\",\"showbackground\":true,\"ticks\":\"\",\"zerolinecolor\":\"white\",\"gridwidth\":2}},\"shapedefaults\":{\"line\":{\"color\":\"#2a3f5f\"}},\"annotationdefaults\":{\"arrowcolor\":\"#2a3f5f\",\"arrowhead\":0,\"arrowwidth\":1},\"geo\":{\"bgcolor\":\"white\",\"landcolor\":\"#E5ECF6\",\"subunitcolor\":\"white\",\"showland\":true,\"showlakes\":true,\"lakecolor\":\"white\"},\"title\":{\"x\":0.05},\"mapbox\":{\"style\":\"light\"}}},\"title\":{\"text\":\"D\\u00e9clarations de catastrophes naturelles par \\u00e9tat aux \\u00c9tats-Unis\"},\"geo\":{\"scope\":\"usa\"},\"width\":1500,\"height\":800},                        {\"responsive\": true}                    ).then(function(){\n",
              "                            \n",
              "var gd = document.getElementById('e3d50ef1-d480-4fee-94b1-b78c8f1f5c32');\n",
              "var x = new MutationObserver(function (mutations, observer) {{\n",
              "        var display = window.getComputedStyle(gd).display;\n",
              "        if (!display || display === 'none') {{\n",
              "            console.log([gd, 'removed!']);\n",
              "            Plotly.purge(gd);\n",
              "            observer.disconnect();\n",
              "        }}\n",
              "}});\n",
              "\n",
              "// Listen for the removal of the full notebook cells\n",
              "var notebookContainer = gd.closest('#notebook-container');\n",
              "if (notebookContainer) {{\n",
              "    x.observe(notebookContainer, {childList: true});\n",
              "}}\n",
              "\n",
              "// Listen for the clearing of the current output cell\n",
              "var outputEl = gd.closest('.output');\n",
              "if (outputEl) {{\n",
              "    x.observe(outputEl, {childList: true});\n",
              "}}\n",
              "\n",
              "                        })                };                            </script>        </div>\n",
              "</body>\n",
              "</html>"
            ]
          },
          "metadata": {}
        }
      ]
    },
    {
      "cell_type": "markdown",
      "source": [
        "\n",
        "## 4. Durée et impact des catastrophes :\n",
        "\n",
        "Quelle est la durée moyenne d'une catastrophe, de son début à sa clôture ?\n",
        "Quels sont les types de déclarations qui ont le plus grand impact en termes de pertes économiques ?\n"
      ],
      "metadata": {
        "id": "cE20kUh_nw6n"
      }
    },
    {
      "cell_type": "code",
      "source": [
        "# Durée moyenne d'une catastrophe, de son début à sa clôture\n",
        "data = data.withColumn(\"incident_begin_date\", data[\"incident_begin_date\"].cast(\"date\"))\n",
        "data = data.withColumn(\"disaster_closeout_date\", data[\"disaster_closeout_date\"].cast(\"date\"))\n",
        "data = data.withColumn(\"duration\", datediff(data[\"disaster_closeout_date\"], data[\"incident_begin_date\"]))\n",
        "avg_duration = data.select(avg(\"duration\")).collect()[0][0]\n",
        "print(\"Durée moyenne d'une catastrophe (en jours) :\", avg_duration)\n",
        "\n",
        "# Types de déclarations avec le plus grand impact en termes de pertes économiques\n",
        "economic_losses = data.groupBy(\"incident_type\").sum(\"pa_program_declared\").orderBy(desc(\"sum(pa_program_declared)\"))\n",
        "print(\"Types de déclarations avec le plus grand impact en termes de pertes économiques :\")\n",
        "economic_losses.show(truncate=False)"
      ],
      "metadata": {
        "colab": {
          "base_uri": "https://localhost:8080/"
        },
        "id": "zrkYvbI4orti",
        "outputId": "4ba8736f-a8de-47fe-b7e4-ad1766f7b252"
      },
      "execution_count": 62,
      "outputs": [
        {
          "output_type": "stream",
          "name": "stdout",
          "text": [
            "Durée moyenne d'une catastrophe (en jours) : 2361.6756215243704\n",
            "Types de déclarations avec le plus grand impact en termes de pertes économiques :\n",
            "+-----------------+------------------------+\n",
            "|incident_type    |sum(pa_program_declared)|\n",
            "+-----------------+------------------------+\n",
            "|Severe Storm     |15289                   |\n",
            "|Hurricane        |12755                   |\n",
            "|Flood            |9963                    |\n",
            "|Biological       |7673                    |\n",
            "|Snowstorm        |3682                    |\n",
            "|Fire             |3435                    |\n",
            "|Severe Ice Storm |2885                    |\n",
            "|Drought          |1287                    |\n",
            "|Tornado          |1257                    |\n",
            "|Coastal Storm    |614                     |\n",
            "|Other            |306                     |\n",
            "|Earthquake       |184                     |\n",
            "|Typhoon          |130                     |\n",
            "|Tropical Storm   |54                      |\n",
            "|Volcanic Eruption|51                      |\n",
            "|Winter Storm     |43                      |\n",
            "|Freezing         |40                      |\n",
            "|Mud/Landslide    |37                      |\n",
            "|Dam/Levee Break  |13                      |\n",
            "|Tsunami          |9                       |\n",
            "+-----------------+------------------------+\n",
            "only showing top 20 rows\n",
            "\n"
          ]
        }
      ]
    },
    {
      "cell_type": "markdown",
      "source": [
        "\n",
        "## 5. Réponses et secours :\n",
        "\n",
        "Quelle est la durée moyenne entre la déclaration d'une catastrophe naturelle et l'octroi d'une aide fédérale ?\n",
        "Quels états sont les plus rapides en matière d'octroi de l'aide ?"
      ],
      "metadata": {
        "id": "A-a-kYEentx_"
      }
    },
    {
      "cell_type": "code",
      "source": [
        "# Durée moyenne entre la déclaration d'une catastrophe naturelle et l'octroi d'une aide fédérale\n",
        "data = data.withColumn(\"declaration_date\", data[\"declaration_date\"].cast(\"date\"))\n",
        "data = data.withColumn(\"last_ia_filing_date\", data[\"last_ia_filing_date\"].cast(\"date\"))\n",
        "data = data.withColumn(\"response_time\", datediff(data[\"last_ia_filing_date\"], data[\"declaration_date\"]))\n",
        "avg_response_time = data.select(avg(\"response_time\")).collect()[0][0]\n",
        "print(\"Durée moyenne entre la déclaration d'une catastrophe naturelle et l'octroi d'une aide fédérale (en jours) :\", avg_response_time)\n",
        "\n",
        "# Tendances dans la rapidité de la réponse en fonction du type de catastrophe\n",
        "response_time_trends = data.groupBy(\"incident_type\").agg(min(\"response_time\")).orderBy(desc(\"min(response_time)\"))\n",
        "print(\"Tendances dans la rapidité de la réponse en fonction du type de catastrophe :\")\n",
        "response_time_trends.show(truncate=False)"
      ],
      "metadata": {
        "colab": {
          "base_uri": "https://localhost:8080/"
        },
        "id": "scCysxBZny_B",
        "outputId": "9e5c1c50-ad58-451f-f663-ba7600669c09"
      },
      "execution_count": 63,
      "outputs": [
        {
          "output_type": "stream",
          "name": "stdout",
          "text": [
            "Durée moyenne entre la déclaration d'une catastrophe naturelle et l'octroi d'une aide fédérale (en jours) : 339.131921365403\n",
            "Tendances dans la rapidité de la réponse en fonction du type de catastrophe :\n",
            "+-----------------+------------------+\n",
            "|incident_type    |min(response_time)|\n",
            "+-----------------+------------------+\n",
            "|Biological       |1140              |\n",
            "|Freezing         |181               |\n",
            "|Volcanic Eruption|124               |\n",
            "|Dam/Levee Break  |83                |\n",
            "|Typhoon          |61                |\n",
            "|Earthquake       |61                |\n",
            "|Mud/Landslide    |61                |\n",
            "|Severe Ice Storm |60                |\n",
            "|Other            |60                |\n",
            "|Flood            |60                |\n",
            "|Fire             |60                |\n",
            "|Terrorist        |60                |\n",
            "|Coastal Storm    |60                |\n",
            "|Hurricane        |59                |\n",
            "|Tornado          |59                |\n",
            "|Severe Storm     |-305              |\n",
            "|Human Cause      |NULL              |\n",
            "|Snowstorm        |NULL              |\n",
            "|Fishing Losses   |NULL              |\n",
            "|Toxic Substances |NULL              |\n",
            "+-----------------+------------------+\n",
            "only showing top 20 rows\n",
            "\n"
          ]
        }
      ]
    },
    {
      "cell_type": "code",
      "source": [
        "processed_df = data.filter(col(\"last_ia_filing_date\").isNotNull())\n",
        "\n",
        "processed_df = processed_df.withColumn(\"last_ia_filing_timestamp\", unix_timestamp(\"last_ia_filing_date\"))\n",
        "\n",
        "avg_processing_time = processed_df.groupBy(\"state\") \\\n",
        "    .agg((avg(col(\"last_ia_filing_timestamp\")) / 86400 / count(\"*\")).alias(\"avg_processing_time_days\"))\n",
        "\n",
        "avg_processing_time.show()\n",
        "\n",
        "avg_processing_time_pd = avg_processing_time.toPandas()\n",
        "\n",
        "fig = px.choropleth(avg_processing_time_pd,\n",
        "                    locations='state',\n",
        "                    locationmode=\"USA-states\",\n",
        "                    color='avg_processing_time_days',\n",
        "                    scope=\"usa\",\n",
        "                    labels={'avg_processing_time_days':'Durée moyenne de traitement des demandes (jours)'},\n",
        "                    title='Durée moyenne de traitement des demandes d\\'assistance par État aux États-Unis')\n",
        "\n",
        "fig.show()"
      ],
      "metadata": {
        "colab": {
          "base_uri": "https://localhost:8080/",
          "height": 993
        },
        "id": "o90ZO_OiT3WQ",
        "outputId": "95067804-9790-4507-8025-44be1d060f8a"
      },
      "execution_count": 86,
      "outputs": [
        {
          "output_type": "stream",
          "name": "stdout",
          "text": [
            "+-----+------------------------+\n",
            "|state|avg_processing_time_days|\n",
            "+-----+------------------------+\n",
            "|   SC|       70.64099017874337|\n",
            "|   AZ|       330.5258875739645|\n",
            "|   LA|      18.482951060877568|\n",
            "|   MN|      54.181607142857146|\n",
            "|   NJ|       106.9448377990652|\n",
            "|   DC|       4832.666666666667|\n",
            "|   OR|      222.03730584990564|\n",
            "|   VA|       35.57675208289575|\n",
            "|   RI|                 1067.75|\n",
            "|   KY|      17.792476815874906|\n",
            "|   WY|       651.6492271105826|\n",
            "|   NH|                 382.075|\n",
            "|   MI|       128.9839552818177|\n",
            "|   NV|       417.3889413988658|\n",
            "|   WI|      55.280946610204104|\n",
            "|   ID|      269.01704142011835|\n",
            "|   CA|       71.36115034248994|\n",
            "|   NE|      54.229836333371246|\n",
            "|   CT|        279.641498216409|\n",
            "|   MT|       87.35916666666667|\n",
            "+-----+------------------------+\n",
            "only showing top 20 rows\n",
            "\n"
          ]
        },
        {
          "output_type": "display_data",
          "data": {
            "text/html": [
              "<html>\n",
              "<head><meta charset=\"utf-8\" /></head>\n",
              "<body>\n",
              "    <div>            <script src=\"https://cdnjs.cloudflare.com/ajax/libs/mathjax/2.7.5/MathJax.js?config=TeX-AMS-MML_SVG\"></script><script type=\"text/javascript\">if (window.MathJax && window.MathJax.Hub && window.MathJax.Hub.Config) {window.MathJax.Hub.Config({SVG: {font: \"STIX-Web\"}});}</script>                <script type=\"text/javascript\">window.PlotlyConfig = {MathJaxConfig: 'local'};</script>\n",
              "        <script charset=\"utf-8\" src=\"https://cdn.plot.ly/plotly-2.24.1.min.js\"></script>                <div id=\"56fd6e1d-d901-487e-86f1-e531d65307f2\" class=\"plotly-graph-div\" style=\"height:525px; width:100%;\"></div>            <script type=\"text/javascript\">                                    window.PLOTLYENV=window.PLOTLYENV || {};                                    if (document.getElementById(\"56fd6e1d-d901-487e-86f1-e531d65307f2\")) {                    Plotly.newPlot(                        \"56fd6e1d-d901-487e-86f1-e531d65307f2\",                        [{\"coloraxis\":\"coloraxis\",\"geo\":\"geo\",\"hovertemplate\":\"state=%{location}\\u003cbr\\u003eDur\\u00e9e moyenne de traitement des demandes (jours)=%{z}\\u003cextra\\u003e\\u003c\\u002fextra\\u003e\",\"locationmode\":\"USA-states\",\"locations\":[\"SC\",\"AZ\",\"LA\",\"MN\",\"NJ\",\"DC\",\"OR\",\"VA\",\"RI\",\"KY\",\"WY\",\"NH\",\"MI\",\"NV\",\"WI\",\"ID\",\"CA\",\"NE\",\"CT\",\"MT\",\"NC\",\"VT\",\"MD\",\"DE\",\"MO\",\"VI\",\"IL\",\"ME\",\"GU\",\"ND\",\"WA\",\"MS\",\"AL\",\"IN\",\"OH\",\"TN\",\"IA\",\"NM\",\"PA\",\"SD\",\"NY\",\"FM\",\"TX\",\"WV\",\"GA\",\"MA\",\"AS\",\"KS\",\"CO\",\"FL\",\"AK\",\"AR\",\"OK\",\"PR\",\"MP\",\"UT\",\"HI\"],\"name\":\"\",\"z\":[70.64099017874337,330.5258875739645,18.482951060877568,54.181607142857146,106.9448377990652,4832.666666666667,222.03730584990564,35.57675208289575,1067.75,17.792476815874906,651.6492271105826,382.075,128.9839552818177,417.3889413988658,55.280946610204104,269.01704142011835,71.36115034248994,54.229836333371246,279.641498216409,87.35916666666667,32.44177710474256,360.4187654320988,175.7253921038399,1858.78125,15.98616459281418,1365.9375,43.428923115768214,41.48918233501784,4838.888888888889,58.76482830385016,94.03118908382066,21.867247849248596,30.330545493287875,26.324883275569917,36.65683113009465,30.063419999999997,28.798149083308786,142.046818727491,42.76732156902978,50.10164835164835,40.574072206143654,4054.1111111111113,7.285527670151117,35.535505097539456,27.59526413178794,250.29696318194036,616.4064,66.5138613693712,97.67615996202682,20.092983237344008,138.0518798828125,31.95139927040067,21.527953445156243,31.994639164541265,788.2403628117916,493.24654832347136,872.9166666666666],\"type\":\"choropleth\"}],                        {\"template\":{\"data\":{\"histogram2dcontour\":[{\"type\":\"histogram2dcontour\",\"colorbar\":{\"outlinewidth\":0,\"ticks\":\"\"},\"colorscale\":[[0.0,\"#0d0887\"],[0.1111111111111111,\"#46039f\"],[0.2222222222222222,\"#7201a8\"],[0.3333333333333333,\"#9c179e\"],[0.4444444444444444,\"#bd3786\"],[0.5555555555555556,\"#d8576b\"],[0.6666666666666666,\"#ed7953\"],[0.7777777777777778,\"#fb9f3a\"],[0.8888888888888888,\"#fdca26\"],[1.0,\"#f0f921\"]]}],\"choropleth\":[{\"type\":\"choropleth\",\"colorbar\":{\"outlinewidth\":0,\"ticks\":\"\"}}],\"histogram2d\":[{\"type\":\"histogram2d\",\"colorbar\":{\"outlinewidth\":0,\"ticks\":\"\"},\"colorscale\":[[0.0,\"#0d0887\"],[0.1111111111111111,\"#46039f\"],[0.2222222222222222,\"#7201a8\"],[0.3333333333333333,\"#9c179e\"],[0.4444444444444444,\"#bd3786\"],[0.5555555555555556,\"#d8576b\"],[0.6666666666666666,\"#ed7953\"],[0.7777777777777778,\"#fb9f3a\"],[0.8888888888888888,\"#fdca26\"],[1.0,\"#f0f921\"]]}],\"heatmap\":[{\"type\":\"heatmap\",\"colorbar\":{\"outlinewidth\":0,\"ticks\":\"\"},\"colorscale\":[[0.0,\"#0d0887\"],[0.1111111111111111,\"#46039f\"],[0.2222222222222222,\"#7201a8\"],[0.3333333333333333,\"#9c179e\"],[0.4444444444444444,\"#bd3786\"],[0.5555555555555556,\"#d8576b\"],[0.6666666666666666,\"#ed7953\"],[0.7777777777777778,\"#fb9f3a\"],[0.8888888888888888,\"#fdca26\"],[1.0,\"#f0f921\"]]}],\"heatmapgl\":[{\"type\":\"heatmapgl\",\"colorbar\":{\"outlinewidth\":0,\"ticks\":\"\"},\"colorscale\":[[0.0,\"#0d0887\"],[0.1111111111111111,\"#46039f\"],[0.2222222222222222,\"#7201a8\"],[0.3333333333333333,\"#9c179e\"],[0.4444444444444444,\"#bd3786\"],[0.5555555555555556,\"#d8576b\"],[0.6666666666666666,\"#ed7953\"],[0.7777777777777778,\"#fb9f3a\"],[0.8888888888888888,\"#fdca26\"],[1.0,\"#f0f921\"]]}],\"contourcarpet\":[{\"type\":\"contourcarpet\",\"colorbar\":{\"outlinewidth\":0,\"ticks\":\"\"}}],\"contour\":[{\"type\":\"contour\",\"colorbar\":{\"outlinewidth\":0,\"ticks\":\"\"},\"colorscale\":[[0.0,\"#0d0887\"],[0.1111111111111111,\"#46039f\"],[0.2222222222222222,\"#7201a8\"],[0.3333333333333333,\"#9c179e\"],[0.4444444444444444,\"#bd3786\"],[0.5555555555555556,\"#d8576b\"],[0.6666666666666666,\"#ed7953\"],[0.7777777777777778,\"#fb9f3a\"],[0.8888888888888888,\"#fdca26\"],[1.0,\"#f0f921\"]]}],\"surface\":[{\"type\":\"surface\",\"colorbar\":{\"outlinewidth\":0,\"ticks\":\"\"},\"colorscale\":[[0.0,\"#0d0887\"],[0.1111111111111111,\"#46039f\"],[0.2222222222222222,\"#7201a8\"],[0.3333333333333333,\"#9c179e\"],[0.4444444444444444,\"#bd3786\"],[0.5555555555555556,\"#d8576b\"],[0.6666666666666666,\"#ed7953\"],[0.7777777777777778,\"#fb9f3a\"],[0.8888888888888888,\"#fdca26\"],[1.0,\"#f0f921\"]]}],\"mesh3d\":[{\"type\":\"mesh3d\",\"colorbar\":{\"outlinewidth\":0,\"ticks\":\"\"}}],\"scatter\":[{\"fillpattern\":{\"fillmode\":\"overlay\",\"size\":10,\"solidity\":0.2},\"type\":\"scatter\"}],\"parcoords\":[{\"type\":\"parcoords\",\"line\":{\"colorbar\":{\"outlinewidth\":0,\"ticks\":\"\"}}}],\"scatterpolargl\":[{\"type\":\"scatterpolargl\",\"marker\":{\"colorbar\":{\"outlinewidth\":0,\"ticks\":\"\"}}}],\"bar\":[{\"error_x\":{\"color\":\"#2a3f5f\"},\"error_y\":{\"color\":\"#2a3f5f\"},\"marker\":{\"line\":{\"color\":\"#E5ECF6\",\"width\":0.5},\"pattern\":{\"fillmode\":\"overlay\",\"size\":10,\"solidity\":0.2}},\"type\":\"bar\"}],\"scattergeo\":[{\"type\":\"scattergeo\",\"marker\":{\"colorbar\":{\"outlinewidth\":0,\"ticks\":\"\"}}}],\"scatterpolar\":[{\"type\":\"scatterpolar\",\"marker\":{\"colorbar\":{\"outlinewidth\":0,\"ticks\":\"\"}}}],\"histogram\":[{\"marker\":{\"pattern\":{\"fillmode\":\"overlay\",\"size\":10,\"solidity\":0.2}},\"type\":\"histogram\"}],\"scattergl\":[{\"type\":\"scattergl\",\"marker\":{\"colorbar\":{\"outlinewidth\":0,\"ticks\":\"\"}}}],\"scatter3d\":[{\"type\":\"scatter3d\",\"line\":{\"colorbar\":{\"outlinewidth\":0,\"ticks\":\"\"}},\"marker\":{\"colorbar\":{\"outlinewidth\":0,\"ticks\":\"\"}}}],\"scattermapbox\":[{\"type\":\"scattermapbox\",\"marker\":{\"colorbar\":{\"outlinewidth\":0,\"ticks\":\"\"}}}],\"scatterternary\":[{\"type\":\"scatterternary\",\"marker\":{\"colorbar\":{\"outlinewidth\":0,\"ticks\":\"\"}}}],\"scattercarpet\":[{\"type\":\"scattercarpet\",\"marker\":{\"colorbar\":{\"outlinewidth\":0,\"ticks\":\"\"}}}],\"carpet\":[{\"aaxis\":{\"endlinecolor\":\"#2a3f5f\",\"gridcolor\":\"white\",\"linecolor\":\"white\",\"minorgridcolor\":\"white\",\"startlinecolor\":\"#2a3f5f\"},\"baxis\":{\"endlinecolor\":\"#2a3f5f\",\"gridcolor\":\"white\",\"linecolor\":\"white\",\"minorgridcolor\":\"white\",\"startlinecolor\":\"#2a3f5f\"},\"type\":\"carpet\"}],\"table\":[{\"cells\":{\"fill\":{\"color\":\"#EBF0F8\"},\"line\":{\"color\":\"white\"}},\"header\":{\"fill\":{\"color\":\"#C8D4E3\"},\"line\":{\"color\":\"white\"}},\"type\":\"table\"}],\"barpolar\":[{\"marker\":{\"line\":{\"color\":\"#E5ECF6\",\"width\":0.5},\"pattern\":{\"fillmode\":\"overlay\",\"size\":10,\"solidity\":0.2}},\"type\":\"barpolar\"}],\"pie\":[{\"automargin\":true,\"type\":\"pie\"}]},\"layout\":{\"autotypenumbers\":\"strict\",\"colorway\":[\"#636efa\",\"#EF553B\",\"#00cc96\",\"#ab63fa\",\"#FFA15A\",\"#19d3f3\",\"#FF6692\",\"#B6E880\",\"#FF97FF\",\"#FECB52\"],\"font\":{\"color\":\"#2a3f5f\"},\"hovermode\":\"closest\",\"hoverlabel\":{\"align\":\"left\"},\"paper_bgcolor\":\"white\",\"plot_bgcolor\":\"#E5ECF6\",\"polar\":{\"bgcolor\":\"#E5ECF6\",\"angularaxis\":{\"gridcolor\":\"white\",\"linecolor\":\"white\",\"ticks\":\"\"},\"radialaxis\":{\"gridcolor\":\"white\",\"linecolor\":\"white\",\"ticks\":\"\"}},\"ternary\":{\"bgcolor\":\"#E5ECF6\",\"aaxis\":{\"gridcolor\":\"white\",\"linecolor\":\"white\",\"ticks\":\"\"},\"baxis\":{\"gridcolor\":\"white\",\"linecolor\":\"white\",\"ticks\":\"\"},\"caxis\":{\"gridcolor\":\"white\",\"linecolor\":\"white\",\"ticks\":\"\"}},\"coloraxis\":{\"colorbar\":{\"outlinewidth\":0,\"ticks\":\"\"}},\"colorscale\":{\"sequential\":[[0.0,\"#0d0887\"],[0.1111111111111111,\"#46039f\"],[0.2222222222222222,\"#7201a8\"],[0.3333333333333333,\"#9c179e\"],[0.4444444444444444,\"#bd3786\"],[0.5555555555555556,\"#d8576b\"],[0.6666666666666666,\"#ed7953\"],[0.7777777777777778,\"#fb9f3a\"],[0.8888888888888888,\"#fdca26\"],[1.0,\"#f0f921\"]],\"sequentialminus\":[[0.0,\"#0d0887\"],[0.1111111111111111,\"#46039f\"],[0.2222222222222222,\"#7201a8\"],[0.3333333333333333,\"#9c179e\"],[0.4444444444444444,\"#bd3786\"],[0.5555555555555556,\"#d8576b\"],[0.6666666666666666,\"#ed7953\"],[0.7777777777777778,\"#fb9f3a\"],[0.8888888888888888,\"#fdca26\"],[1.0,\"#f0f921\"]],\"diverging\":[[0,\"#8e0152\"],[0.1,\"#c51b7d\"],[0.2,\"#de77ae\"],[0.3,\"#f1b6da\"],[0.4,\"#fde0ef\"],[0.5,\"#f7f7f7\"],[0.6,\"#e6f5d0\"],[0.7,\"#b8e186\"],[0.8,\"#7fbc41\"],[0.9,\"#4d9221\"],[1,\"#276419\"]]},\"xaxis\":{\"gridcolor\":\"white\",\"linecolor\":\"white\",\"ticks\":\"\",\"title\":{\"standoff\":15},\"zerolinecolor\":\"white\",\"automargin\":true,\"zerolinewidth\":2},\"yaxis\":{\"gridcolor\":\"white\",\"linecolor\":\"white\",\"ticks\":\"\",\"title\":{\"standoff\":15},\"zerolinecolor\":\"white\",\"automargin\":true,\"zerolinewidth\":2},\"scene\":{\"xaxis\":{\"backgroundcolor\":\"#E5ECF6\",\"gridcolor\":\"white\",\"linecolor\":\"white\",\"showbackground\":true,\"ticks\":\"\",\"zerolinecolor\":\"white\",\"gridwidth\":2},\"yaxis\":{\"backgroundcolor\":\"#E5ECF6\",\"gridcolor\":\"white\",\"linecolor\":\"white\",\"showbackground\":true,\"ticks\":\"\",\"zerolinecolor\":\"white\",\"gridwidth\":2},\"zaxis\":{\"backgroundcolor\":\"#E5ECF6\",\"gridcolor\":\"white\",\"linecolor\":\"white\",\"showbackground\":true,\"ticks\":\"\",\"zerolinecolor\":\"white\",\"gridwidth\":2}},\"shapedefaults\":{\"line\":{\"color\":\"#2a3f5f\"}},\"annotationdefaults\":{\"arrowcolor\":\"#2a3f5f\",\"arrowhead\":0,\"arrowwidth\":1},\"geo\":{\"bgcolor\":\"white\",\"landcolor\":\"#E5ECF6\",\"subunitcolor\":\"white\",\"showland\":true,\"showlakes\":true,\"lakecolor\":\"white\"},\"title\":{\"x\":0.05},\"mapbox\":{\"style\":\"light\"}}},\"geo\":{\"domain\":{\"x\":[0.0,1.0],\"y\":[0.0,1.0]},\"center\":{},\"scope\":\"usa\"},\"coloraxis\":{\"colorbar\":{\"title\":{\"text\":\"Dur\\u00e9e moyenne de traitement des demandes (jours)\"}},\"colorscale\":[[0.0,\"#0d0887\"],[0.1111111111111111,\"#46039f\"],[0.2222222222222222,\"#7201a8\"],[0.3333333333333333,\"#9c179e\"],[0.4444444444444444,\"#bd3786\"],[0.5555555555555556,\"#d8576b\"],[0.6666666666666666,\"#ed7953\"],[0.7777777777777778,\"#fb9f3a\"],[0.8888888888888888,\"#fdca26\"],[1.0,\"#f0f921\"]]},\"legend\":{\"tracegroupgap\":0},\"title\":{\"text\":\"Dur\\u00e9e moyenne de traitement des demandes d'assistance par \\u00c9tat aux \\u00c9tats-Unis\"}},                        {\"responsive\": true}                    ).then(function(){\n",
              "                            \n",
              "var gd = document.getElementById('56fd6e1d-d901-487e-86f1-e531d65307f2');\n",
              "var x = new MutationObserver(function (mutations, observer) {{\n",
              "        var display = window.getComputedStyle(gd).display;\n",
              "        if (!display || display === 'none') {{\n",
              "            console.log([gd, 'removed!']);\n",
              "            Plotly.purge(gd);\n",
              "            observer.disconnect();\n",
              "        }}\n",
              "}});\n",
              "\n",
              "// Listen for the removal of the full notebook cells\n",
              "var notebookContainer = gd.closest('#notebook-container');\n",
              "if (notebookContainer) {{\n",
              "    x.observe(notebookContainer, {childList: true});\n",
              "}}\n",
              "\n",
              "// Listen for the clearing of the current output cell\n",
              "var outputEl = gd.closest('.output');\n",
              "if (outputEl) {{\n",
              "    x.observe(outputEl, {childList: true});\n",
              "}}\n",
              "\n",
              "                        })                };                            </script>        </div>\n",
              "</body>\n",
              "</html>"
            ]
          },
          "metadata": {}
        }
      ]
    },
    {
      "cell_type": "markdown",
      "source": [
        "## 6. Exposition aux catastrophes naturelles :\n",
        "Quelle catastrophe naturelle est la plus fréquente dans chaque état ?"
      ],
      "metadata": {
        "id": "aHlLkn_TMsjU"
      }
    },
    {
      "cell_type": "code",
      "source": [
        "from pyspark.sql.functions import col, desc, row_number\n",
        "from pyspark.sql.window import Window\n",
        "\n",
        "incident_counts = data.groupBy(\"state\", \"incident_type\") \\\n",
        "    .count() \\\n",
        "    .withColumnRenamed(\"count\", \"incident_count\")\n",
        "\n",
        "windowSpec = Window.partitionBy(\"state\").orderBy(desc(\"incident_count\"))\n",
        "\n",
        "most_frequent_incidents = incident_counts.withColumn(\"rn\", row_number().over(windowSpec)) \\\n",
        "    .filter(col(\"rn\") == 1) \\\n",
        "    .drop(\"rn\")\n",
        "\n",
        "most_frequent_incidents.show()"
      ],
      "metadata": {
        "colab": {
          "base_uri": "https://localhost:8080/"
        },
        "id": "mNahJGSmRKDZ",
        "outputId": "9facd077-ca6b-4c9e-e236-a7b4f126a750"
      },
      "execution_count": 66,
      "outputs": [
        {
          "output_type": "stream",
          "name": "stdout",
          "text": [
            "+-----+-------------+--------------+\n",
            "|state|incident_type|incident_count|\n",
            "+-----+-------------+--------------+\n",
            "|   AK|   Biological|           121|\n",
            "|   AL|    Hurricane|           611|\n",
            "|   AR| Severe Storm|           633|\n",
            "|   AS|    Hurricane|            25|\n",
            "|   AZ|         Fire|            88|\n",
            "|   CA|         Fire|           460|\n",
            "|   CO|         Fire|           151|\n",
            "|   CT|    Hurricane|            96|\n",
            "|   DC| Severe Storm|             9|\n",
            "|   DE|    Hurricane|            22|\n",
            "|   FL|    Hurricane|          1219|\n",
            "|   FM|      Typhoon|            23|\n",
            "|   GA|    Hurricane|           905|\n",
            "|   GU|      Typhoon|            13|\n",
            "|   HI|    Hurricane|            22|\n",
            "|   IA|        Flood|           722|\n",
            "|   ID|   Biological|            93|\n",
            "|   IL|        Flood|           317|\n",
            "|   IN| Severe Storm|           655|\n",
            "|   KS| Severe Storm|          1030|\n",
            "+-----+-------------+--------------+\n",
            "only showing top 20 rows\n",
            "\n"
          ]
        }
      ]
    },
    {
      "cell_type": "code",
      "source": [
        "most_frequent_incidents_pd = most_frequent_incidents.toPandas()\n",
        "\n",
        "fig = px.choropleth(most_frequent_incidents_pd,\n",
        "                    locations='state',\n",
        "                    locationmode=\"USA-states\",\n",
        "                    color='incident_type',\n",
        "                    scope=\"usa\",\n",
        "                    labels={'incident_type':'Type d\\'incident le plus fréquent'})\n",
        "\n",
        "fig.update_layout(\n",
        "    title_text='Catastrophe naturelle la plus fréquente par État aux États-Unis',\n",
        "    geo_scope='usa',\n",
        "    width=1500,\n",
        "    height=800\n",
        ")\n",
        "\n",
        "\n",
        "fig.show()"
      ],
      "metadata": {
        "colab": {
          "base_uri": "https://localhost:8080/",
          "height": 817
        },
        "id": "EG4psO1OSUhS",
        "outputId": "f8fddc5b-5505-4f83-bf46-c113cdabb33b"
      },
      "execution_count": 74,
      "outputs": [
        {
          "output_type": "display_data",
          "data": {
            "text/html": [
              "<html>\n",
              "<head><meta charset=\"utf-8\" /></head>\n",
              "<body>\n",
              "    <div>            <script src=\"https://cdnjs.cloudflare.com/ajax/libs/mathjax/2.7.5/MathJax.js?config=TeX-AMS-MML_SVG\"></script><script type=\"text/javascript\">if (window.MathJax && window.MathJax.Hub && window.MathJax.Hub.Config) {window.MathJax.Hub.Config({SVG: {font: \"STIX-Web\"}});}</script>                <script type=\"text/javascript\">window.PlotlyConfig = {MathJaxConfig: 'local'};</script>\n",
              "        <script charset=\"utf-8\" src=\"https://cdn.plot.ly/plotly-2.24.1.min.js\"></script>                <div id=\"5d0bd155-e203-4ae6-b282-679899f9719b\" class=\"plotly-graph-div\" style=\"height:800px; width:1500px;\"></div>            <script type=\"text/javascript\">                                    window.PLOTLYENV=window.PLOTLYENV || {};                                    if (document.getElementById(\"5d0bd155-e203-4ae6-b282-679899f9719b\")) {                    Plotly.newPlot(                        \"5d0bd155-e203-4ae6-b282-679899f9719b\",                        [{\"colorscale\":[[0.0,\"#636efa\"],[1.0,\"#636efa\"]],\"geo\":\"geo\",\"hovertemplate\":\"Type d'incident le plus fr\\u00e9quent=Biological\\u003cbr\\u003estate=%{location}\\u003cextra\\u003e\\u003c\\u002fextra\\u003e\",\"locationmode\":\"USA-states\",\"locations\":[\"AK\",\"ID\",\"ME\",\"MI\",\"NM\",\"NV\",\"WY\"],\"name\":\"Biological\",\"showlegend\":true,\"showscale\":false,\"z\":[1,1,1,1,1,1,1],\"type\":\"choropleth\"},{\"colorscale\":[[0.0,\"#EF553B\"],[1.0,\"#EF553B\"]],\"geo\":\"geo\",\"hovertemplate\":\"Type d'incident le plus fr\\u00e9quent=Hurricane\\u003cbr\\u003estate=%{location}\\u003cextra\\u003e\\u003c\\u002fextra\\u003e\",\"locationmode\":\"USA-states\",\"locations\":[\"AL\",\"AS\",\"CT\",\"DE\",\"FL\",\"GA\",\"HI\",\"LA\",\"MA\",\"MD\",\"MS\",\"NC\",\"NJ\",\"PR\",\"RI\",\"SC\",\"TX\",\"VA\",\"VI\"],\"name\":\"Hurricane\",\"showlegend\":true,\"showscale\":false,\"z\":[1,1,1,1,1,1,1,1,1,1,1,1,1,1,1,1,1,1,1],\"type\":\"choropleth\"},{\"colorscale\":[[0.0,\"#00cc96\"],[1.0,\"#00cc96\"]],\"geo\":\"geo\",\"hovertemplate\":\"Type d'incident le plus fr\\u00e9quent=Severe Storm\\u003cbr\\u003estate=%{location}\\u003cextra\\u003e\\u003c\\u002fextra\\u003e\",\"locationmode\":\"USA-states\",\"locations\":[\"AR\",\"DC\",\"IN\",\"KS\",\"KY\",\"MO\",\"NE\",\"NH\",\"NY\",\"OH\",\"OK\",\"OR\",\"SD\",\"TN\",\"VT\",\"WI\",\"WV\"],\"name\":\"Severe Storm\",\"showlegend\":true,\"showscale\":false,\"z\":[1,1,1,1,1,1,1,1,1,1,1,1,1,1,1,1,1],\"type\":\"choropleth\"},{\"colorscale\":[[0.0,\"#ab63fa\"],[1.0,\"#ab63fa\"]],\"geo\":\"geo\",\"hovertemplate\":\"Type d'incident le plus fr\\u00e9quent=Fire\\u003cbr\\u003estate=%{location}\\u003cextra\\u003e\\u003c\\u002fextra\\u003e\",\"locationmode\":\"USA-states\",\"locations\":[\"AZ\",\"CA\",\"CO\",\"MT\"],\"name\":\"Fire\",\"showlegend\":true,\"showscale\":false,\"z\":[1,1,1,1],\"type\":\"choropleth\"},{\"colorscale\":[[0.0,\"#FFA15A\"],[1.0,\"#FFA15A\"]],\"geo\":\"geo\",\"hovertemplate\":\"Type d'incident le plus fr\\u00e9quent=Typhoon\\u003cbr\\u003estate=%{location}\\u003cextra\\u003e\\u003c\\u002fextra\\u003e\",\"locationmode\":\"USA-states\",\"locations\":[\"FM\",\"GU\",\"MP\",\"PW\"],\"name\":\"Typhoon\",\"showlegend\":true,\"showscale\":false,\"z\":[1,1,1,1],\"type\":\"choropleth\"},{\"colorscale\":[[0.0,\"#19d3f3\"],[1.0,\"#19d3f3\"]],\"geo\":\"geo\",\"hovertemplate\":\"Type d'incident le plus fr\\u00e9quent=Flood\\u003cbr\\u003estate=%{location}\\u003cextra\\u003e\\u003c\\u002fextra\\u003e\",\"locationmode\":\"USA-states\",\"locations\":[\"IA\",\"IL\",\"MN\",\"ND\",\"PA\",\"UT\",\"WA\"],\"name\":\"Flood\",\"showlegend\":true,\"showscale\":false,\"z\":[1,1,1,1,1,1,1],\"type\":\"choropleth\"},{\"colorscale\":[[0.0,\"#FF6692\"],[1.0,\"#FF6692\"]],\"geo\":\"geo\",\"hovertemplate\":\"Type d'incident le plus fr\\u00e9quent=Drought\\u003cbr\\u003estate=%{location}\\u003cextra\\u003e\\u003c\\u002fextra\\u003e\",\"locationmode\":\"USA-states\",\"locations\":[\"MH\"],\"name\":\"Drought\",\"showlegend\":true,\"showscale\":false,\"z\":[1],\"type\":\"choropleth\"}],                        {\"template\":{\"data\":{\"histogram2dcontour\":[{\"type\":\"histogram2dcontour\",\"colorbar\":{\"outlinewidth\":0,\"ticks\":\"\"},\"colorscale\":[[0.0,\"#0d0887\"],[0.1111111111111111,\"#46039f\"],[0.2222222222222222,\"#7201a8\"],[0.3333333333333333,\"#9c179e\"],[0.4444444444444444,\"#bd3786\"],[0.5555555555555556,\"#d8576b\"],[0.6666666666666666,\"#ed7953\"],[0.7777777777777778,\"#fb9f3a\"],[0.8888888888888888,\"#fdca26\"],[1.0,\"#f0f921\"]]}],\"choropleth\":[{\"type\":\"choropleth\",\"colorbar\":{\"outlinewidth\":0,\"ticks\":\"\"}}],\"histogram2d\":[{\"type\":\"histogram2d\",\"colorbar\":{\"outlinewidth\":0,\"ticks\":\"\"},\"colorscale\":[[0.0,\"#0d0887\"],[0.1111111111111111,\"#46039f\"],[0.2222222222222222,\"#7201a8\"],[0.3333333333333333,\"#9c179e\"],[0.4444444444444444,\"#bd3786\"],[0.5555555555555556,\"#d8576b\"],[0.6666666666666666,\"#ed7953\"],[0.7777777777777778,\"#fb9f3a\"],[0.8888888888888888,\"#fdca26\"],[1.0,\"#f0f921\"]]}],\"heatmap\":[{\"type\":\"heatmap\",\"colorbar\":{\"outlinewidth\":0,\"ticks\":\"\"},\"colorscale\":[[0.0,\"#0d0887\"],[0.1111111111111111,\"#46039f\"],[0.2222222222222222,\"#7201a8\"],[0.3333333333333333,\"#9c179e\"],[0.4444444444444444,\"#bd3786\"],[0.5555555555555556,\"#d8576b\"],[0.6666666666666666,\"#ed7953\"],[0.7777777777777778,\"#fb9f3a\"],[0.8888888888888888,\"#fdca26\"],[1.0,\"#f0f921\"]]}],\"heatmapgl\":[{\"type\":\"heatmapgl\",\"colorbar\":{\"outlinewidth\":0,\"ticks\":\"\"},\"colorscale\":[[0.0,\"#0d0887\"],[0.1111111111111111,\"#46039f\"],[0.2222222222222222,\"#7201a8\"],[0.3333333333333333,\"#9c179e\"],[0.4444444444444444,\"#bd3786\"],[0.5555555555555556,\"#d8576b\"],[0.6666666666666666,\"#ed7953\"],[0.7777777777777778,\"#fb9f3a\"],[0.8888888888888888,\"#fdca26\"],[1.0,\"#f0f921\"]]}],\"contourcarpet\":[{\"type\":\"contourcarpet\",\"colorbar\":{\"outlinewidth\":0,\"ticks\":\"\"}}],\"contour\":[{\"type\":\"contour\",\"colorbar\":{\"outlinewidth\":0,\"ticks\":\"\"},\"colorscale\":[[0.0,\"#0d0887\"],[0.1111111111111111,\"#46039f\"],[0.2222222222222222,\"#7201a8\"],[0.3333333333333333,\"#9c179e\"],[0.4444444444444444,\"#bd3786\"],[0.5555555555555556,\"#d8576b\"],[0.6666666666666666,\"#ed7953\"],[0.7777777777777778,\"#fb9f3a\"],[0.8888888888888888,\"#fdca26\"],[1.0,\"#f0f921\"]]}],\"surface\":[{\"type\":\"surface\",\"colorbar\":{\"outlinewidth\":0,\"ticks\":\"\"},\"colorscale\":[[0.0,\"#0d0887\"],[0.1111111111111111,\"#46039f\"],[0.2222222222222222,\"#7201a8\"],[0.3333333333333333,\"#9c179e\"],[0.4444444444444444,\"#bd3786\"],[0.5555555555555556,\"#d8576b\"],[0.6666666666666666,\"#ed7953\"],[0.7777777777777778,\"#fb9f3a\"],[0.8888888888888888,\"#fdca26\"],[1.0,\"#f0f921\"]]}],\"mesh3d\":[{\"type\":\"mesh3d\",\"colorbar\":{\"outlinewidth\":0,\"ticks\":\"\"}}],\"scatter\":[{\"fillpattern\":{\"fillmode\":\"overlay\",\"size\":10,\"solidity\":0.2},\"type\":\"scatter\"}],\"parcoords\":[{\"type\":\"parcoords\",\"line\":{\"colorbar\":{\"outlinewidth\":0,\"ticks\":\"\"}}}],\"scatterpolargl\":[{\"type\":\"scatterpolargl\",\"marker\":{\"colorbar\":{\"outlinewidth\":0,\"ticks\":\"\"}}}],\"bar\":[{\"error_x\":{\"color\":\"#2a3f5f\"},\"error_y\":{\"color\":\"#2a3f5f\"},\"marker\":{\"line\":{\"color\":\"#E5ECF6\",\"width\":0.5},\"pattern\":{\"fillmode\":\"overlay\",\"size\":10,\"solidity\":0.2}},\"type\":\"bar\"}],\"scattergeo\":[{\"type\":\"scattergeo\",\"marker\":{\"colorbar\":{\"outlinewidth\":0,\"ticks\":\"\"}}}],\"scatterpolar\":[{\"type\":\"scatterpolar\",\"marker\":{\"colorbar\":{\"outlinewidth\":0,\"ticks\":\"\"}}}],\"histogram\":[{\"marker\":{\"pattern\":{\"fillmode\":\"overlay\",\"size\":10,\"solidity\":0.2}},\"type\":\"histogram\"}],\"scattergl\":[{\"type\":\"scattergl\",\"marker\":{\"colorbar\":{\"outlinewidth\":0,\"ticks\":\"\"}}}],\"scatter3d\":[{\"type\":\"scatter3d\",\"line\":{\"colorbar\":{\"outlinewidth\":0,\"ticks\":\"\"}},\"marker\":{\"colorbar\":{\"outlinewidth\":0,\"ticks\":\"\"}}}],\"scattermapbox\":[{\"type\":\"scattermapbox\",\"marker\":{\"colorbar\":{\"outlinewidth\":0,\"ticks\":\"\"}}}],\"scatterternary\":[{\"type\":\"scatterternary\",\"marker\":{\"colorbar\":{\"outlinewidth\":0,\"ticks\":\"\"}}}],\"scattercarpet\":[{\"type\":\"scattercarpet\",\"marker\":{\"colorbar\":{\"outlinewidth\":0,\"ticks\":\"\"}}}],\"carpet\":[{\"aaxis\":{\"endlinecolor\":\"#2a3f5f\",\"gridcolor\":\"white\",\"linecolor\":\"white\",\"minorgridcolor\":\"white\",\"startlinecolor\":\"#2a3f5f\"},\"baxis\":{\"endlinecolor\":\"#2a3f5f\",\"gridcolor\":\"white\",\"linecolor\":\"white\",\"minorgridcolor\":\"white\",\"startlinecolor\":\"#2a3f5f\"},\"type\":\"carpet\"}],\"table\":[{\"cells\":{\"fill\":{\"color\":\"#EBF0F8\"},\"line\":{\"color\":\"white\"}},\"header\":{\"fill\":{\"color\":\"#C8D4E3\"},\"line\":{\"color\":\"white\"}},\"type\":\"table\"}],\"barpolar\":[{\"marker\":{\"line\":{\"color\":\"#E5ECF6\",\"width\":0.5},\"pattern\":{\"fillmode\":\"overlay\",\"size\":10,\"solidity\":0.2}},\"type\":\"barpolar\"}],\"pie\":[{\"automargin\":true,\"type\":\"pie\"}]},\"layout\":{\"autotypenumbers\":\"strict\",\"colorway\":[\"#636efa\",\"#EF553B\",\"#00cc96\",\"#ab63fa\",\"#FFA15A\",\"#19d3f3\",\"#FF6692\",\"#B6E880\",\"#FF97FF\",\"#FECB52\"],\"font\":{\"color\":\"#2a3f5f\"},\"hovermode\":\"closest\",\"hoverlabel\":{\"align\":\"left\"},\"paper_bgcolor\":\"white\",\"plot_bgcolor\":\"#E5ECF6\",\"polar\":{\"bgcolor\":\"#E5ECF6\",\"angularaxis\":{\"gridcolor\":\"white\",\"linecolor\":\"white\",\"ticks\":\"\"},\"radialaxis\":{\"gridcolor\":\"white\",\"linecolor\":\"white\",\"ticks\":\"\"}},\"ternary\":{\"bgcolor\":\"#E5ECF6\",\"aaxis\":{\"gridcolor\":\"white\",\"linecolor\":\"white\",\"ticks\":\"\"},\"baxis\":{\"gridcolor\":\"white\",\"linecolor\":\"white\",\"ticks\":\"\"},\"caxis\":{\"gridcolor\":\"white\",\"linecolor\":\"white\",\"ticks\":\"\"}},\"coloraxis\":{\"colorbar\":{\"outlinewidth\":0,\"ticks\":\"\"}},\"colorscale\":{\"sequential\":[[0.0,\"#0d0887\"],[0.1111111111111111,\"#46039f\"],[0.2222222222222222,\"#7201a8\"],[0.3333333333333333,\"#9c179e\"],[0.4444444444444444,\"#bd3786\"],[0.5555555555555556,\"#d8576b\"],[0.6666666666666666,\"#ed7953\"],[0.7777777777777778,\"#fb9f3a\"],[0.8888888888888888,\"#fdca26\"],[1.0,\"#f0f921\"]],\"sequentialminus\":[[0.0,\"#0d0887\"],[0.1111111111111111,\"#46039f\"],[0.2222222222222222,\"#7201a8\"],[0.3333333333333333,\"#9c179e\"],[0.4444444444444444,\"#bd3786\"],[0.5555555555555556,\"#d8576b\"],[0.6666666666666666,\"#ed7953\"],[0.7777777777777778,\"#fb9f3a\"],[0.8888888888888888,\"#fdca26\"],[1.0,\"#f0f921\"]],\"diverging\":[[0,\"#8e0152\"],[0.1,\"#c51b7d\"],[0.2,\"#de77ae\"],[0.3,\"#f1b6da\"],[0.4,\"#fde0ef\"],[0.5,\"#f7f7f7\"],[0.6,\"#e6f5d0\"],[0.7,\"#b8e186\"],[0.8,\"#7fbc41\"],[0.9,\"#4d9221\"],[1,\"#276419\"]]},\"xaxis\":{\"gridcolor\":\"white\",\"linecolor\":\"white\",\"ticks\":\"\",\"title\":{\"standoff\":15},\"zerolinecolor\":\"white\",\"automargin\":true,\"zerolinewidth\":2},\"yaxis\":{\"gridcolor\":\"white\",\"linecolor\":\"white\",\"ticks\":\"\",\"title\":{\"standoff\":15},\"zerolinecolor\":\"white\",\"automargin\":true,\"zerolinewidth\":2},\"scene\":{\"xaxis\":{\"backgroundcolor\":\"#E5ECF6\",\"gridcolor\":\"white\",\"linecolor\":\"white\",\"showbackground\":true,\"ticks\":\"\",\"zerolinecolor\":\"white\",\"gridwidth\":2},\"yaxis\":{\"backgroundcolor\":\"#E5ECF6\",\"gridcolor\":\"white\",\"linecolor\":\"white\",\"showbackground\":true,\"ticks\":\"\",\"zerolinecolor\":\"white\",\"gridwidth\":2},\"zaxis\":{\"backgroundcolor\":\"#E5ECF6\",\"gridcolor\":\"white\",\"linecolor\":\"white\",\"showbackground\":true,\"ticks\":\"\",\"zerolinecolor\":\"white\",\"gridwidth\":2}},\"shapedefaults\":{\"line\":{\"color\":\"#2a3f5f\"}},\"annotationdefaults\":{\"arrowcolor\":\"#2a3f5f\",\"arrowhead\":0,\"arrowwidth\":1},\"geo\":{\"bgcolor\":\"white\",\"landcolor\":\"#E5ECF6\",\"subunitcolor\":\"white\",\"showland\":true,\"showlakes\":true,\"lakecolor\":\"white\"},\"title\":{\"x\":0.05},\"mapbox\":{\"style\":\"light\"}}},\"geo\":{\"domain\":{\"x\":[0.0,1.0],\"y\":[0.0,1.0]},\"center\":{},\"scope\":\"usa\"},\"legend\":{\"title\":{\"text\":\"Type d'incident le plus fr\\u00e9quent\"},\"tracegroupgap\":0},\"margin\":{\"t\":60},\"title\":{\"text\":\"Catastrophe naturelle la plus fr\\u00e9quente par \\u00c9tat aux \\u00c9tats-Unis\"},\"width\":1500,\"height\":800},                        {\"responsive\": true}                    ).then(function(){\n",
              "                            \n",
              "var gd = document.getElementById('5d0bd155-e203-4ae6-b282-679899f9719b');\n",
              "var x = new MutationObserver(function (mutations, observer) {{\n",
              "        var display = window.getComputedStyle(gd).display;\n",
              "        if (!display || display === 'none') {{\n",
              "            console.log([gd, 'removed!']);\n",
              "            Plotly.purge(gd);\n",
              "            observer.disconnect();\n",
              "        }}\n",
              "}});\n",
              "\n",
              "// Listen for the removal of the full notebook cells\n",
              "var notebookContainer = gd.closest('#notebook-container');\n",
              "if (notebookContainer) {{\n",
              "    x.observe(notebookContainer, {childList: true});\n",
              "}}\n",
              "\n",
              "// Listen for the clearing of the current output cell\n",
              "var outputEl = gd.closest('.output');\n",
              "if (outputEl) {{\n",
              "    x.observe(outputEl, {childList: true});\n",
              "}}\n",
              "\n",
              "                        })                };                            </script>        </div>\n",
              "</body>\n",
              "</html>"
            ]
          },
          "metadata": {}
        }
      ]
    },
    {
      "cell_type": "markdown",
      "source": [
        "Quelles ont été les années les plus marquées en catastrophes naturelles pour chaque état ?"
      ],
      "metadata": {
        "id": "mZnjmndATYRL"
      }
    },
    {
      "cell_type": "code",
      "source": [
        "disaster_df = data.withColumn(\"year\", year(col(\"declaration_date\")))\n",
        "\n",
        "disaster_counts = disaster_df.groupBy(\"state\", \"year\").count()\n",
        "\n",
        "windowSpec = Window.partitionBy(\"state\").orderBy(desc(\"count\"))\n",
        "\n",
        "most_impactful_years = disaster_counts.withColumn(\"rn\", row_number().over(windowSpec)) \\\n",
        "    .filter(col(\"rn\") == 1) \\\n",
        "    .drop(\"rn\")\n",
        "\n",
        "most_impactful_years.show()"
      ],
      "metadata": {
        "colab": {
          "base_uri": "https://localhost:8080/"
        },
        "id": "FkvxpLPKTbHJ",
        "outputId": "784f6ac2-f928-4fcf-a2c6-846517f4d1a0"
      },
      "execution_count": 76,
      "outputs": [
        {
          "output_type": "stream",
          "name": "stdout",
          "text": [
            "+-----+----+-----+\n",
            "|state|year|count|\n",
            "+-----+----+-----+\n",
            "|   AK|2020|  121|\n",
            "|   AL|2020|  278|\n",
            "|   AR|2020|  240|\n",
            "|   AS|2018|   10|\n",
            "|   AZ|2020|   81|\n",
            "|   CA|2020|  181|\n",
            "|   CO|2020|  139|\n",
            "|   CT|2011|   39|\n",
            "|   DC|2011|    3|\n",
            "|   DE|2020|    8|\n",
            "|   FL|2022|  264|\n",
            "|   FM|1992|    5|\n",
            "|   GA|2017|  351|\n",
            "|   GU|2002|    2|\n",
            "|   HI|2018|   14|\n",
            "|   IA|2020|  227|\n",
            "|   ID|2020|   93|\n",
            "|   IL|2020|  204|\n",
            "|   IN|2005|  231|\n",
            "|   KS|2020|  233|\n",
            "+-----+----+-----+\n",
            "only showing top 20 rows\n",
            "\n"
          ]
        }
      ]
    },
    {
      "cell_type": "markdown",
      "source": [
        "Quels programmes d'assitance ont été activés dans chaque état ?"
      ],
      "metadata": {
        "id": "phGvIg9zag7w"
      }
    },
    {
      "cell_type": "code",
      "source": [
        "programs_columns = [\"ih_program_declared\", \"ia_program_declared\", \"pa_program_declared\", \"hm_program_declared\"]\n",
        "\n",
        "disaster_df = data.withColumn(\"total_programs_activated\", sum(when(col(c) == 1, 1).otherwise(0) for c in programs_columns))\n",
        "\n",
        "#disaster_df.select(\"state\", \"fema_declaration_string\", \"total_programs_activated\").show(truncate=False)\n",
        "\n",
        "most_activated_program = disaster_df.groupBy(\"state\").agg({\"total_programs_activated\": \"max\"}).withColumnRenamed(\"max(total_programs_activated)\", \"max_programs_activated\")\n",
        "\n",
        "most_activated_program.show()\n"
      ],
      "metadata": {
        "colab": {
          "base_uri": "https://localhost:8080/"
        },
        "id": "269Skn0AXqPK",
        "outputId": "9a3b2461-b178-47b5-e357-f03047993c26"
      },
      "execution_count": 95,
      "outputs": [
        {
          "output_type": "stream",
          "name": "stdout",
          "text": [
            "+-----+----------------------+\n",
            "|state|max_programs_activated|\n",
            "+-----+----------------------+\n",
            "|   SC|                     3|\n",
            "|   AZ|                     3|\n",
            "|   LA|                     4|\n",
            "|   MN|                     4|\n",
            "|   NJ|                     4|\n",
            "|   DC|                     3|\n",
            "|   OR|                     4|\n",
            "|   VA|                     4|\n",
            "|   RI|                     3|\n",
            "|   KY|                     4|\n",
            "|   WY|                     3|\n",
            "|   NH|                     4|\n",
            "|   MI|                     3|\n",
            "|   NV|                     4|\n",
            "|   WI|                     4|\n",
            "|   ID|                     3|\n",
            "|   CA|                     4|\n",
            "|   CT|                     4|\n",
            "|   NE|                     4|\n",
            "|   MT|                     3|\n",
            "+-----+----------------------+\n",
            "only showing top 20 rows\n",
            "\n"
          ]
        }
      ]
    }
  ]
}